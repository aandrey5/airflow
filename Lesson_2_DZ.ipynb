{
 "cells": [
  {
   "cell_type": "code",
   "execution_count": 39,
   "metadata": {},
   "outputs": [],
   "source": [
    "import os\n",
    "import datetime as dt\n",
    "import pandas as pd\n",
    "import numpy as np\n",
    "from airflow.models import DAG\n",
    "from airflow.operators.python import PythonOperator\n",
    "from airflow.operators.bash import BashOperator\n",
    "\n",
    "# базовые аргументы DAG\n",
    "args = {\n",
    "    'owner': 'airflow',  # Информация о владельце DAG\n",
    "    'start_date': dt.datetime(2020, 12, 23),  # Время начала выполнения пайплайна\n",
    "    'retries': 1,  # Количество повторений в случае неудач\n",
    "    'retry_delay': dt.timedelta(minutes=1),  # Пауза между повторами\n",
    "    'depends_on_past': False,  # Запуск DAG зависит ли от успешности окончания предыдущего запуска по расписанию\n",
    "}\n",
    "\n",
    "\n",
    "def get_path(file_name):\n",
    "    return os.path.join(os.path.expanduser('~'), file_name)\n",
    "\n",
    "\n",
    "def download_titanic_dataset():\n",
    "    url = 'https://web.stanford.edu/class/archive/cs/cs109/cs109.1166/stuff/titanic.csv'\n",
    "    df = pd.read_csv(url)\n",
    "    df.to_csv(get_path('titanic.csv'), encoding='utf-8')\n",
    "\n",
    "# новый таск\n",
    "def mean_fare_per_class():\n",
    "    titanic_df = pd.read_csv(get_path('titanic.csv'))\n",
    "    avg_df = titanic_df.groupby(['Pclass']).mean('Fare')\n",
    "    avg_result = avg_df[['Fare']]\n",
    "    avg_result.to_csv(get_path('titanic_mean_fares.csv'))\n",
    "    \n",
    "def pivot_dataset():\n",
    "    titanic_df = pd.read_csv(get_path('titanic.csv'))\n",
    "    df = titanic_df.pivot_table(index=['Sex'],\n",
    "                                columns=['Pclass'],\n",
    "                                values='Name',\n",
    "                                aggfunc='count').reset_index()\n",
    "    df.to_csv(get_path('titanic_pivot.csv'))\n",
    "    \n",
    "\n",
    "with DAG(\n",
    "        dag_id='mean_fares_titanic_dataset',  # Имя DAG\n",
    "        schedule_interval=None,  # Периодичность запуска, например, \"00 15 * * *\"\n",
    "        default_args=args,  # Базовые аргументы\n",
    ") as dag:\n",
    "    # BashOperator, выполняющий указанную bash-команду\n",
    "    first_task = BashOperator(\n",
    "        task_id='first_task',\n",
    "        bash_command='echo \"Here we start! Info: run_id={{ run_id }} | dag_run={{ dag_run }}\"',\n",
    "        dag=dag,\n",
    "    )\n",
    "    \n",
    "    # запуск новой таски mean_fare_per_class\n",
    "    \n",
    "    mean_fares_titanic_dataset = PythonOperator(\n",
    "        task_id='mean_fare_per_class',\n",
    "        python_callable=mean_fare_per_class,\n",
    "        dag=dag\n",
    "    )\n",
    "    \n",
    "    # Загрузка датасета\n",
    "    create_titanic_dataset = PythonOperator(\n",
    "        task_id='download_titanic_dataset',\n",
    "        python_callable=download_titanic_dataset,\n",
    "        dag=dag,\n",
    "    )\n",
    "    # Чтение, преобразование и запись датасета\n",
    "    pivot_titanic_dataset = PythonOperator(\n",
    "        task_id='pivot_dataset',\n",
    "        python_callable=pivot_dataset,\n",
    "        dag=dag,\n",
    "    )\n",
    "    \n",
    "    last_task = BashOperator(\n",
    "        task_id='last_task',\n",
    "        bash_command='echo \"Pipeline finished, Execution date is: ds ={{ ds }} \"',\n",
    "        dag=dag,\n",
    "    )\n",
    "    # Порядок выполнения тасок\n",
    "    first_task >> create_titanic_dataset >> pivot_titanic_dataset >> last_task\n",
    "    first_task >> create_titanic_dataset >> pivot_titanic_dataset >> last_task"
   ]
  },
  {
   "cell_type": "code",
   "execution_count": 40,
   "metadata": {},
   "outputs": [],
   "source": [
    "download_titanic_dataset()"
   ]
  },
  {
   "cell_type": "code",
   "execution_count": 32,
   "metadata": {},
   "outputs": [],
   "source": [
    "titanic_df = pd.read_csv(get_path('titanic.csv'))"
   ]
  },
  {
   "cell_type": "code",
   "execution_count": 33,
   "metadata": {},
   "outputs": [],
   "source": [
    "avg_df = titanic_df.groupby(['Pclass']).mean('Fare')"
   ]
  },
  {
   "cell_type": "code",
   "execution_count": 36,
   "metadata": {},
   "outputs": [],
   "source": [
    "avg_result = avg_df[['Fare']]"
   ]
  },
  {
   "cell_type": "code",
   "execution_count": 37,
   "metadata": {},
   "outputs": [
    {
     "data": {
      "text/html": [
       "<div>\n",
       "<style scoped>\n",
       "    .dataframe tbody tr th:only-of-type {\n",
       "        vertical-align: middle;\n",
       "    }\n",
       "\n",
       "    .dataframe tbody tr th {\n",
       "        vertical-align: top;\n",
       "    }\n",
       "\n",
       "    .dataframe thead th {\n",
       "        text-align: right;\n",
       "    }\n",
       "</style>\n",
       "<table border=\"1\" class=\"dataframe\">\n",
       "  <thead>\n",
       "    <tr style=\"text-align: right;\">\n",
       "      <th></th>\n",
       "      <th>Fare</th>\n",
       "    </tr>\n",
       "    <tr>\n",
       "      <th>Pclass</th>\n",
       "      <th></th>\n",
       "    </tr>\n",
       "  </thead>\n",
       "  <tbody>\n",
       "    <tr>\n",
       "      <th>1</th>\n",
       "      <td>84.154687</td>\n",
       "    </tr>\n",
       "    <tr>\n",
       "      <th>2</th>\n",
       "      <td>20.662183</td>\n",
       "    </tr>\n",
       "    <tr>\n",
       "      <th>3</th>\n",
       "      <td>13.707707</td>\n",
       "    </tr>\n",
       "  </tbody>\n",
       "</table>\n",
       "</div>"
      ],
      "text/plain": [
       "             Fare\n",
       "Pclass           \n",
       "1       84.154687\n",
       "2       20.662183\n",
       "3       13.707707"
      ]
     },
     "execution_count": 37,
     "metadata": {},
     "output_type": "execute_result"
    }
   ],
   "source": [
    "avg_result.to_csv(get_path('titanic_mean_fares.csv'))"
   ]
  },
  {
   "cell_type": "code",
   "execution_count": 41,
   "metadata": {},
   "outputs": [],
   "source": [
    "mean_fare_per_class()"
   ]
  },
  {
   "cell_type": "code",
   "execution_count": null,
   "metadata": {},
   "outputs": [],
   "source": []
  }
 ],
 "metadata": {
  "kernelspec": {
   "display_name": "Python 3",
   "language": "python",
   "name": "python3"
  },
  "language_info": {
   "codemirror_mode": {
    "name": "ipython",
    "version": 3
   },
   "file_extension": ".py",
   "mimetype": "text/x-python",
   "name": "python",
   "nbconvert_exporter": "python",
   "pygments_lexer": "ipython3",
   "version": "3.8.5"
  }
 },
 "nbformat": 4,
 "nbformat_minor": 4
}
